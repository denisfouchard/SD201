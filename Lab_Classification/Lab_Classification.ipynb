{
 "cells": [
  {
   "cell_type": "markdown",
   "metadata": {
    "tags": []
   },
   "source": [
    "# SD701 Lab session: classification\n",
    "\n",
    "The goal of this lab session is for you to get a good grasp of data cleaning, clustering, classification implementations and evaluations. For this reason, the lab is less focused on re-implementing existing algorithms, and more onto using what is already available and making sense of it. We have tried to write as much of the code that requires prior knowledge of the librairies, so that you can focus on exploration and data mining itself.\n",
    "\n",
    "Here are some handy links for reference:\n",
    "\n",
    "* [Lecture slides: data exploration and cleaning](https://ecampus.paris-saclay.fr/course/view.php?id=61498#section-2)\n",
    "* [Lecture slides: classification](https://ecampus.paris-saclay.fr/course/view.php?id=61498#section-4)\n",
    "* [pandas documentation](https://pandas.pydata.org/docs/index.html)\n",
    "* [scikit-learn documentation](https://scikit-learn.org/stable/index.html)\n",
    "\n",
    "As a general tip, in Jupyter notebooks you can suffix a function with \"?\" to get its documentation, and with \"??\" to get its source code. This is immensely useful to check input variables, parameters, etc.\n",
    "\n",
    "```python\n",
    "\n",
    ">>> max?\n",
    "Docstring:\n",
    "max(iterable, *[, default=obj, key=func]) -> value\n",
    "max(arg1, arg2, *args, *[, key=func]) -> value\n",
    "\n",
    "With a single iterable argument, return its biggest item. The\n",
    "default keyword-only argument specifies an object to return if\n",
    "the provided iterable is empty.\n",
    "With two or more arguments, return the largest argument.\n",
    "Type:      builtin_function_or_method\n",
    "\n",
    "```"
   ]
  },
  {
   "cell_type": "code",
   "execution_count": 1,
   "metadata": {},
   "outputs": [
    {
     "name": "stdout",
     "output_type": "stream",
     "text": [
      "\u001b[0;31mDocstring:\u001b[0m\n",
      "max(iterable, *[, default=obj, key=func]) -> value\n",
      "max(arg1, arg2, *args, *[, key=func]) -> value\n",
      "\n",
      "With a single iterable argument, return its biggest item. The\n",
      "default keyword-only argument specifies an object to return if\n",
      "the provided iterable is empty.\n",
      "With two or more arguments, return the largest argument.\n",
      "\u001b[0;31mType:\u001b[0m      builtin_function_or_method"
     ]
    }
   ],
   "source": [
    "max?"
   ]
  },
  {
   "cell_type": "markdown",
   "metadata": {},
   "source": [
    "Let us make our imports and get started."
   ]
  },
  {
   "cell_type": "code",
   "execution_count": 2,
   "metadata": {},
   "outputs": [],
   "source": [
    "import sklearn as sk\n",
    "import numpy as np\n",
    "from sklearn import cluster\n",
    "from sklearn.preprocessing import LabelEncoder\n",
    "from sklearn.neighbors import KNeighborsClassifier\n",
    "import pandas as pd\n",
    "import matplotlib.pyplot as plt\n",
    "import seaborn as sn"
   ]
  },
  {
   "cell_type": "code",
   "execution_count": 3,
   "metadata": {},
   "outputs": [],
   "source": [
    "%matplotlib inline"
   ]
  },
  {
   "cell_type": "markdown",
   "metadata": {},
   "source": [
    "## The Palmer Penguin dataset\n",
    "\n",
    "Let us look at the [Palmer penguins]() dataset. It is a small dataset that contains measurements about real-world penguins. The files `penguins_lter.csv` and `penguins_size.csv` contain different attributes. We will start using only one of them.\n",
    "\n",
    "Our task is to:\n",
    "\n",
    "   - Do an exploratory analysis of the data\n",
    "   - Think about what algorithms and features we want to use, and how we need to transform our variables\n",
    "   - Run our algorithms and evaluate them"
   ]
  },
  {
   "cell_type": "code",
   "execution_count": 4,
   "metadata": {},
   "outputs": [],
   "source": [
    "penguins_cs = pd.read_csv(open(\"data/penguins_size.csv\"))"
   ]
  },
  {
   "cell_type": "markdown",
   "metadata": {
    "tags": []
   },
   "source": [
    "### Exploratory analysis\n",
    "\n",
    "The goal of this first section is to get an idea of how the data is structured and distributed. We should keep in mind the things we have see during the lecture:\n",
    "\n",
    "* Are the different attributes distributed in very different spans of values? Will it be a problem for the models we wish to use?\n",
    "* How do we want to address different spans (if relevant?)\n",
    "* Which attributes are numeric/categorical/etc.?\n",
    "* Do we have \"Non assigned\" values? What should we do with them?\n",
    "\n",
    "_Tip: It would be a good idea to make different copies of your original data (for example using the `data.copy()` function), in order to compare different strategies: normalising versus not normalising, normalisation versus standardisation etc._\n"
   ]
  },
  {
   "cell_type": "code",
   "execution_count": 5,
   "metadata": {},
   "outputs": [
    {
     "data": {
      "text/html": [
       "<div>\n",
       "<style scoped>\n",
       "    .dataframe tbody tr th:only-of-type {\n",
       "        vertical-align: middle;\n",
       "    }\n",
       "\n",
       "    .dataframe tbody tr th {\n",
       "        vertical-align: top;\n",
       "    }\n",
       "\n",
       "    .dataframe thead th {\n",
       "        text-align: right;\n",
       "    }\n",
       "</style>\n",
       "<table border=\"1\" class=\"dataframe\">\n",
       "  <thead>\n",
       "    <tr style=\"text-align: right;\">\n",
       "      <th></th>\n",
       "      <th>culmen_length_mm</th>\n",
       "      <th>culmen_depth_mm</th>\n",
       "      <th>flipper_length_mm</th>\n",
       "      <th>body_mass_g</th>\n",
       "    </tr>\n",
       "  </thead>\n",
       "  <tbody>\n",
       "    <tr>\n",
       "      <th>count</th>\n",
       "      <td>342.000000</td>\n",
       "      <td>342.000000</td>\n",
       "      <td>342.000000</td>\n",
       "      <td>342.000000</td>\n",
       "    </tr>\n",
       "    <tr>\n",
       "      <th>mean</th>\n",
       "      <td>43.921930</td>\n",
       "      <td>17.151170</td>\n",
       "      <td>200.915205</td>\n",
       "      <td>4201.754386</td>\n",
       "    </tr>\n",
       "    <tr>\n",
       "      <th>std</th>\n",
       "      <td>5.459584</td>\n",
       "      <td>1.974793</td>\n",
       "      <td>14.061714</td>\n",
       "      <td>801.954536</td>\n",
       "    </tr>\n",
       "    <tr>\n",
       "      <th>min</th>\n",
       "      <td>32.100000</td>\n",
       "      <td>13.100000</td>\n",
       "      <td>172.000000</td>\n",
       "      <td>2700.000000</td>\n",
       "    </tr>\n",
       "    <tr>\n",
       "      <th>25%</th>\n",
       "      <td>39.225000</td>\n",
       "      <td>15.600000</td>\n",
       "      <td>190.000000</td>\n",
       "      <td>3550.000000</td>\n",
       "    </tr>\n",
       "    <tr>\n",
       "      <th>50%</th>\n",
       "      <td>44.450000</td>\n",
       "      <td>17.300000</td>\n",
       "      <td>197.000000</td>\n",
       "      <td>4050.000000</td>\n",
       "    </tr>\n",
       "    <tr>\n",
       "      <th>75%</th>\n",
       "      <td>48.500000</td>\n",
       "      <td>18.700000</td>\n",
       "      <td>213.000000</td>\n",
       "      <td>4750.000000</td>\n",
       "    </tr>\n",
       "    <tr>\n",
       "      <th>max</th>\n",
       "      <td>59.600000</td>\n",
       "      <td>21.500000</td>\n",
       "      <td>231.000000</td>\n",
       "      <td>6300.000000</td>\n",
       "    </tr>\n",
       "  </tbody>\n",
       "</table>\n",
       "</div>"
      ],
      "text/plain": [
       "       culmen_length_mm  culmen_depth_mm  flipper_length_mm  body_mass_g\n",
       "count        342.000000       342.000000         342.000000   342.000000\n",
       "mean          43.921930        17.151170         200.915205  4201.754386\n",
       "std            5.459584         1.974793          14.061714   801.954536\n",
       "min           32.100000        13.100000         172.000000  2700.000000\n",
       "25%           39.225000        15.600000         190.000000  3550.000000\n",
       "50%           44.450000        17.300000         197.000000  4050.000000\n",
       "75%           48.500000        18.700000         213.000000  4750.000000\n",
       "max           59.600000        21.500000         231.000000  6300.000000"
      ]
     },
     "execution_count": 5,
     "metadata": {},
     "output_type": "execute_result"
    }
   ],
   "source": [
    "penguins_cs.describe()"
   ]
  },
  {
   "cell_type": "code",
   "execution_count": 6,
   "metadata": {},
   "outputs": [
    {
     "data": {
      "text/plain": [
       "Index(['species', 'island', 'culmen_length_mm', 'culmen_depth_mm',\n",
       "       'flipper_length_mm', 'body_mass_g', 'sex'],\n",
       "      dtype='object')"
      ]
     },
     "execution_count": 6,
     "metadata": {},
     "output_type": "execute_result"
    }
   ],
   "source": [
    "penguins_cs.columns"
   ]
  },
  {
   "cell_type": "markdown",
   "metadata": {},
   "source": [
    "Plot two attributes against each other, two see how correlated they are. Explore the different variables and their distributions, to get an idea of how the data is distributed and which attributes are relevant.\n",
    "\n",
    "_Tip: Given two lists `x` and `y`, you can make a scatter plot with `plt.plot(x, y, 'o')`. You can use `data[\"attribute\"].hist()` to get the attribute's distribution._"
   ]
  },
  {
   "cell_type": "code",
   "execution_count": 7,
   "metadata": {},
   "outputs": [
    {
     "data": {
      "image/png": "[encoded data removed]",
      "text/plain": [
       "<Figure size 640x480 with 1 Axes>"
      ]
     },
     "metadata": {},
     "output_type": "display_data"
    }
   ],
   "source": [
    "plt.plot(penguins_cs[\"culmen_depth_mm\"], penguins_cs[\"culmen_length_mm\"], 'o');"
   ]
  },
  {
   "cell_type": "code",
   "execution_count": 8,
   "metadata": {},
   "outputs": [
    {
     "data": {
      "image/png": "[encoded data removed]",
      "text/plain": [
       "<Figure size 640x480 with 1 Axes>"
      ]
     },
     "metadata": {},
     "output_type": "display_data"
    }
   ],
   "source": [
    "penguins_cs['culmen_length_mm'].hist();"
   ]
  },
  {
   "cell_type": "markdown",
   "metadata": {},
   "source": [
    "Now let us handle missing values. Should we treat all missing values the same way? What fraction of the data would we remove, if we were to drop all the lines  that have at least one missing value?\n",
    "\n",
    "_Tip: look into the `data.dropna()` function provided by pandas._"
   ]
  },
  {
   "cell_type": "code",
   "execution_count": 9,
   "metadata": {},
   "outputs": [],
   "source": [
    "penguins_cs = penguins_cs.dropna()"
   ]
  },
  {
   "cell_type": "code",
   "execution_count": 10,
   "metadata": {},
   "outputs": [
    {
     "data": {
      "text/plain": [
       "2338"
      ]
     },
     "execution_count": 10,
     "metadata": {},
     "output_type": "execute_result"
    }
   ],
   "source": [
    "penguins_cs.size"
   ]
  },
  {
   "cell_type": "markdown",
   "metadata": {},
   "source": [
    "Let us write code to normalize and standardize our attributes, if we wish to do so. Each function takes as input a `Series` (i.e. a column from the dataframe), and returns a new, modified `Series`.\n",
    "\n",
    "_Tip: functions can be applied pointwise to `DataFrames` and `Series`, without the need for an explicit `for` loop._"
   ]
  },
  {
   "cell_type": "code",
   "execution_count": 11,
   "metadata": {},
   "outputs": [],
   "source": [
    "def normalize(data: pd.Series):\n",
    "    mini, maxi = data.min(), data.max()\n",
    "    norm_data = (data - mini)/(maxi - mini) \n",
    "    return norm_data\n",
    "\n",
    "def standardize(data: pd.Series):\n",
    "    stand_data = (data - data.mean())/data.std()\n",
    "    return stand_data\n"
   ]
  },
  {
   "cell_type": "markdown",
   "metadata": {},
   "source": [
    "_Tip: you can apply a function easily to a whole Series or DataFrame, using `pd.apply()`_\n",
    "\n",
    "We finally provide you with a modified version of the dataframe, that contains only numerical values. You might not necessarily need it."
   ]
  },
  {
   "cell_type": "code",
   "execution_count": 12,
   "metadata": {},
   "outputs": [],
   "source": [
    "penguins_num = penguins_cs[['culmen_length_mm', 'culmen_depth_mm',\n",
    "       'flipper_length_mm', 'body_mass_g']]\n",
    "penguins_num = penguins_num.fillna(0)"
   ]
  },
  {
   "cell_type": "markdown",
   "metadata": {
    "tags": []
   },
   "source": [
    "## Classification\n",
    "\n",
    "While we have not seen any classification algorithms in class yet, let us try to classify (instead of cluster) our data. The code for the classification algorithm is already completely written out for you, so you can focus on the other tasks.\n",
    "\n",
    "Start by choosing what you want to classify on (for example, the species). You can use the exploratory data analysis you did before to guide your choice."
   ]
  },
  {
   "cell_type": "markdown",
   "metadata": {},
   "source": [
    "### Preparation"
   ]
  },
  {
   "cell_type": "markdown",
   "metadata": {},
   "source": [
    "First, write down a function that will split your data into train and test datasets. Since we are in a controlled environment, we will not use an extra validation dataset, in order to make the most of the data we have. The header of the function is written out for you: `data` is the DataFrame you want to split into train and test, `target_key` is the attribute you wish to predict (for example, the species); the `percent_test` tells you the fraction of the data that should be used for testing, and defaults at 15%.\n",
    "\n",
    "The function returns 4 objects: `X_train` contains the features for learning on the train dataset, and `y_train` is the target attribute. Likewise for `X_test` and `y_test`.\n",
    "\n",
    "_Tip: to slice a dataframe like you would with a Python list, you can use the [.loc]() function as follows: `data.loc[row_slice, col_slice]`_\n",
    "\n",
    "_Tip: to shuffle a dataframe, you can use `df = df.sample(frac=1)`_"
   ]
  },
  {
   "cell_type": "code",
   "execution_count": 13,
   "metadata": {},
   "outputs": [],
   "source": [
    "def train_test_split(data: pd.DataFrame, target_key:str, percent_test: int =15):\n",
    "    #shuffle\n",
    "    df = data.sample(frac=1)\n",
    "\n",
    "    #Separate training and testing sets\n",
    "    training = df.iloc[0:round(len(data)*(1-percent_test/100))]\n",
    "    testing = df.iloc[round(len(data)*(1-percent_test/100)):]\n",
    "\n",
    "    #Separate X and y\n",
    "    y_train = training[target_key]\n",
    "    X_train = training.drop(target_key,axis=1)\n",
    "\n",
    "    y_test = testing[target_key]\n",
    "    X_test = testing.drop(target_key,axis=1)\n",
    "    \n",
    "    return X_train, y_train, X_test, y_test\n",
    "\n",
    "data = penguins_cs.copy()\n",
    "data[\"species\"] = LabelEncoder().fit_transform(data[\"species\"])\n",
    "data[\"island\"] = LabelEncoder().fit_transform(data[\"island\"])\n",
    "data[\"sex\"] = LabelEncoder().fit_transform(data[\"sex\"])\n",
    "\n",
    "X_train, y_train, X_test, y_test = train_test_split(data, target_key=\"sex\")\n"
   ]
  },
  {
   "cell_type": "markdown",
   "metadata": {},
   "source": [
    "Check that your train and test set are appropriate. For example, is the repartition of the target variable similar? If not, how could you correct this issue?"
   ]
  },
  {
   "cell_type": "markdown",
   "metadata": {},
   "source": [
    "## Simple models\n",
    "\n",
    "Majority vote and $k$-nearest neighbours."
   ]
  },
  {
   "cell_type": "code",
   "execution_count": 14,
   "metadata": {},
   "outputs": [],
   "source": [
    "s = data[\"sex\"]"
   ]
  },
  {
   "cell_type": "code",
   "execution_count": 15,
   "metadata": {},
   "outputs": [],
   "source": [
    "class MajorityClassifier():\n",
    "    def __init__(self):\n",
    "        self.majorityClass = None\n",
    "    \n",
    "    def fit(self, X, y):\n",
    "        # Write code that will find the majority class in \n",
    "        # X, y and will set the class attribute accordingly\n",
    "        # Tip: you do not need X in this case\n",
    "        self.majorityClass = y.mode()[0]\n",
    "        \n",
    "        return # This function does not need to return anything\n",
    "    \n",
    "    def predict(self, X):\n",
    "        preds = []\n",
    "        \n",
    "        try:\n",
    "            if self.majorityClass is None:\n",
    "                raise(ValueError)\n",
    "        except ValueError:\n",
    "            print(\"ValueError: Cannot predict on an unfitted model. Run fit() on your train data first.\")\n",
    "            \n",
    "        n = X.size\n",
    "        preds = [self.majorityClass]*n\n",
    "\n",
    "        return preds"
   ]
  },
  {
   "cell_type": "markdown",
   "metadata": {},
   "source": [
    "Now test your majority classifier on the penguin dataset."
   ]
  },
  {
   "cell_type": "code",
   "execution_count": 16,
   "metadata": {},
   "outputs": [],
   "source": [
    "mc = MajorityClassifier()\n",
    "mc.fit(X_train, y_train)\n",
    "mc_preds = mc.predict(X_test)"
   ]
  },
  {
   "cell_type": "markdown",
   "metadata": {},
   "source": [
    "Let us continue with a slightly more complex classifier, the $k$-nearest neighbours one. As a bonus, you can recode it (filling in the code below), but you can also use `scikit-learn`'s implementation."
   ]
  },
  {
   "cell_type": "code",
   "execution_count": 17,
   "metadata": {},
   "outputs": [],
   "source": [
    "class kNNClassifier():\n",
    "    def __init__(self, k: int = 2):\n",
    "        self.k = k\n",
    "        self.points = None\n",
    "        self.y = None\n",
    "    \n",
    "    def get_closest_points(self, x: pd.DataFrame):\n",
    "\n",
    "        closest_points = []\n",
    "        for i in range(x.size):\n",
    "            distance_to_i = []\n",
    "            for j in range(x.size):\n",
    "                distance_to_i.append(sum(abs(self.x.iloc[i] - self.points.iloc[j])))\n",
    "\n",
    "                \n",
    "        \n",
    "        return closest_points\n",
    "    \n",
    "    def fit(self, X: pd.DataFrame, y):\n",
    "        # In the basic k-NN, there is no need for a training phase.\n",
    "        # You can ignore this function.\n",
    "        # In the more advanced k-NN, you can write the hashing code here.\n",
    "        \n",
    "        self.points = normalize(X)\n",
    "        self.y = y\n",
    "        self.x = normalize(X)\n",
    "        return # This function does not need to return anything\n",
    "    \n",
    "    def predict(self, X: pd.DataFrame):\n",
    "        # Write code that will find the k closest points from each data point.\n",
    "        # For this, you need first to compute the distances from every point to every other.\n",
    "        # Then, find the k closest points, and predict the majority class.\n",
    "        preds = []\n",
    "        \n",
    "\n",
    "        \n",
    "        return preds"
   ]
  },
  {
   "cell_type": "code",
   "execution_count": 18,
   "metadata": {},
   "outputs": [
    {
     "data": {
      "text/plain": [
       "array([2, 1, 1, 1, 2, 2, 1, 1, 1, 1, 1, 1, 2, 1, 1, 1, 2, 1, 2, 1, 1, 2,\n",
       "       2, 2, 1, 1, 2, 2, 1, 2, 2, 1, 1, 1, 1, 2, 1, 2, 1, 1, 2, 1, 2, 1,\n",
       "       1, 2, 1, 1, 1, 2])"
      ]
     },
     "execution_count": 18,
     "metadata": {},
     "output_type": "execute_result"
    }
   ],
   "source": [
    "knn = kNNClassifier(k=3)\n",
    "knn = KNeighborsClassifier(n_neighbors=3)\n",
    "\n",
    "knn.fit(X_train, y_train)\n",
    "knn_preds = knn.predict(X_test)\n",
    "\n",
    "knn_preds"
   ]
  },
  {
   "cell_type": "markdown",
   "metadata": {},
   "source": [
    "### Building a decision tree"
   ]
  },
  {
   "cell_type": "code",
   "execution_count": 19,
   "metadata": {},
   "outputs": [],
   "source": [
    "from sklearn.tree import DecisionTreeClassifier, plot_tree\n",
    "\n",
    "dt = DecisionTreeClassifier(max_depth=4)\n",
    "dt.fit(X_train, y_train)\n",
    "dt_preds = dt.predict(X_test)"
   ]
  },
  {
   "cell_type": "code",
   "execution_count": 20,
   "metadata": {},
   "outputs": [
    {
     "data": {
      "text/plain": [
       "['species',\n",
       " 'island',\n",
       " 'culmen_length_mm',\n",
       " 'culmen_depth_mm',\n",
       " 'flipper_length_mm',\n",
       " 'body_mass_g']"
      ]
     },
     "execution_count": 20,
     "metadata": {},
     "output_type": "execute_result"
    }
   ],
   "source": [
    "list(X_train.columns)"
   ]
  },
  {
   "cell_type": "code",
   "execution_count": 21,
   "metadata": {},
   "outputs": [
    {
     "data": {
      "image/png": "[encoded data removed]",
      "text/plain": [
       "<Figure size 640x480 with 1 Axes>"
      ]
     },
     "metadata": {},
     "output_type": "display_data"
    }
   ],
   "source": [
    "plt.Figure(figsize=(12,12))\n",
    "plot_tree(dt, feature_names=list(X_train.columns));\n",
    "plt.show()"
   ]
  },
  {
   "cell_type": "markdown",
   "metadata": {},
   "source": [
    "### Training a Random Forest"
   ]
  },
  {
   "cell_type": "code",
   "execution_count": 22,
   "metadata": {},
   "outputs": [],
   "source": [
    "# Simple random forest code, add some tuning : n trees, max depth (make forcefully shallow trees), min_samples?\n",
    "from sklearn.ensemble import RandomForestClassifier\n",
    "\n",
    "rf = RandomForestClassifier(n_estimators=50, max_depth=4)\n",
    "rf.fit(X_train, y_train)\n",
    "rf_preds = rf.predict(X_test)"
   ]
  },
  {
   "cell_type": "markdown",
   "metadata": {},
   "source": [
    "### Training Support Vector Machines"
   ]
  },
  {
   "cell_type": "code",
   "execution_count": 23,
   "metadata": {},
   "outputs": [],
   "source": [
    "# Add some tuning considerations\n",
    "\n",
    "from sklearn.svm import SVC\n",
    "\n",
    "svm = SVC(kernel=\"linear\")\n",
    "svm.fit(X_train, y_train)\n",
    "svm_preds = svm.predict(X_test)"
   ]
  },
  {
   "cell_type": "markdown",
   "metadata": {},
   "source": [
    "## Evaluation\n",
    "\n",
    "Now it is time to focus on the evaluation of our models. Let us use this as an opportunity to compare the clustering and classification approaches.\n",
    "\n",
    "   - How can we evaluate the quality of the classification model? Think about the ranking agreement metrics we saw in the first lecture\n",
    "   - Can we look at the confusion matrix outputted by our classification algorithm?\n",
    "   - What is the impact of normalization/standardization?\n",
    "   - How can we evaluate the quality of the classification? You can go read again about the F1-score and ROC curves"
   ]
  },
  {
   "cell_type": "code",
   "execution_count": 24,
   "metadata": {},
   "outputs": [],
   "source": [
    "from sklearn.metrics import f1_score, roc_curve"
   ]
  },
  {
   "cell_type": "markdown",
   "metadata": {},
   "source": [
    "Let us evaluate our `kNN` model. Go back to the model, and in particular play with the number of trees (parameter `n_neighbors`) -- see how the classification changes with different values of $k$, and how the computation time is impacted. To get a high-level view, you could, for example, plot the $F_1$-score as a function of each parameter. Which parameters make the most sense? How do they impact the classification performance?"
   ]
  },
  {
   "cell_type": "code",
   "execution_count": 25,
   "metadata": {},
   "outputs": [
    {
     "data": {
      "text/plain": [
       "0.74"
      ]
     },
     "execution_count": 25,
     "metadata": {},
     "output_type": "execute_result"
    }
   ],
   "source": [
    "f1_score(np.array(y_test), np.array(knn_preds), average=\"micro\")"
   ]
  },
  {
   "cell_type": "markdown",
   "metadata": {},
   "source": [
    "Let us evaluate our `DecisionTree` model. Go back to the model, and in particular play with the maximum depth of the tree (parameter `max_depth`), and the number of samples per leaf node (parameter `min_samples_split`). To get a high-level view, you could, for example, plot the $F_1$-score as a function of each parameter. You could also look at different confusion matrices (see below), to get an idea of how some models underfit or overfit."
   ]
  },
  {
   "cell_type": "code",
   "execution_count": 26,
   "metadata": {},
   "outputs": [
    {
     "data": {
      "text/plain": [
       "0.8399999999999999"
      ]
     },
     "execution_count": 26,
     "metadata": {},
     "output_type": "execute_result"
    }
   ],
   "source": [
    "f1_score(np.array(y_test), np.array(dt_preds), average=\"micro\")"
   ]
  },
  {
   "cell_type": "markdown",
   "metadata": {},
   "source": [
    "Let us evaluate our `RandomForest` model. Go back to the model, and in particular play with the number of trees (parameter `n_estimators`), the maximum depth of the trees (parameter `max_depth`), and the number of samples per leaf node (parameter `min_samples_split`). To get a high-level view, you could, for example, plot the $F_1$-score as a function of each parameter. You could also look at different confusion matrices (see below), to get an idea of how some models underfit or overfit."
   ]
  },
  {
   "cell_type": "code",
   "execution_count": 27,
   "metadata": {},
   "outputs": [
    {
     "data": {
      "text/plain": [
       "0.88"
      ]
     },
     "execution_count": 27,
     "metadata": {},
     "output_type": "execute_result"
    }
   ],
   "source": [
    "f1_score(np.array(y_test), np.array(rf_preds), average=\"micro\")"
   ]
  },
  {
   "cell_type": "markdown",
   "metadata": {},
   "source": [
    "Let us evaluate our `SVM` model. Go back to the model, and in particular play with the regularization cost (parameter `C`), and the kernel to be used (parameter `kernel`, which can take values `'linear', 'rbf', 'polynomial'`), and the degree of the polynomial kernel (parameter `degree`). To get a high-level view, you could, for example, plot the $F_1$-score as a function of each parameter. Which parameters make the most sense? How do they impact the classification performance?"
   ]
  },
  {
   "cell_type": "code",
   "execution_count": 28,
   "metadata": {},
   "outputs": [
    {
     "data": {
      "text/plain": [
       "0.9"
      ]
     },
     "execution_count": 28,
     "metadata": {},
     "output_type": "execute_result"
    }
   ],
   "source": [
    "f1_score(np.array(y_test), np.array(svm_preds), average=\"micro\")"
   ]
  },
  {
   "cell_type": "markdown",
   "metadata": {},
   "source": [
    "Using the code below, plot the ROC curves for your models. Be careful, the ROC curve **only makes sense for binary classification**. You can predict the penguin's sex, which in this dataset is a binary class. Based on the ROC curve, how good is the model?"
   ]
  },
  {
   "cell_type": "code",
   "execution_count": 29,
   "metadata": {
    "tags": []
   },
   "outputs": [
    {
     "data": {
      "image/png": "[encoded data removed]",
      "text/plain": [
       "<Figure size 640x480 with 1 Axes>"
      ]
     },
     "metadata": {},
     "output_type": "display_data"
    }
   ],
   "source": [
    "fpr, tpr, _ = roc_curve(y_test, rf_preds, pos_label=1)\n",
    "plt.plot(tpr, fpr);"
   ]
  },
  {
   "cell_type": "markdown",
   "metadata": {},
   "source": [
    "Using the code below, plot the confusion matrix for your models."
   ]
  },
  {
   "cell_type": "code",
   "execution_count": 41,
   "metadata": {},
   "outputs": [],
   "source": [
    "def get_confusion_matrix(y_test, y_pred):\n",
    "    # Write code that computes the confusion matrix\n",
    "    # from the y_test and y_pred arrays.\n",
    "\n",
    "    # data should be 0 or 1\n",
    "    y_test_ = np.array(y_test) - 1\n",
    "    y_pred_ = np.array(y_pred) - 1\n",
    "\n",
    "    cm = np.zeros((2,2))\n",
    "    for i in range(len(y_test)):\n",
    "        cm[y_test_[i]][y_pred_[i]-1] += 1\n",
    "    \n",
    "    return cm"
   ]
  },
  {
   "cell_type": "code",
   "execution_count": 45,
   "metadata": {},
   "outputs": [
    {
     "data": {
      "image/png": "[encoded data removed]",
      "text/plain": [
       "<Figure size 640x480 with 2 Axes>"
      ]
     },
     "metadata": {},
     "output_type": "display_data"
    }
   ],
   "source": [
    "cm = get_confusion_matrix(y_test, rf_preds)\n",
    "sn.heatmap(cm, annot=True)\n",
    "\n",
    "plt.show()"
   ]
  },
  {
   "cell_type": "markdown",
   "metadata": {},
   "source": [
    "For each model, there are many other parameters. We focused on the ones that usually have the most impact on the prediction quality, but feel free to play around with the other ones if they are relevant to your data or use-case."
   ]
  },
  {
   "cell_type": "markdown",
   "metadata": {
    "tags": []
   },
   "source": [
    "## A non-toy dataset: the \"vital\" pages of Wikipedia\n",
    "\n",
    "Now that we have had the opportunity to test code and play around with a relatively simple dataset, let us consider a real-world one. The **WikiVitals (en)** dataset comprises of the 10,000 most important Wikipedia articles (articles are selected by users). We have extracted this dataset for you; it is stored in graph format for compacity, with sparse matrices storing the hyperlinks between articles as well as the words appearing in the summary of each article. Since we have not studied graphs together, we provide some helper functions to get an article's title, the words associated to each article, and its label.\n",
    "\n",
    "The dataset should be relatively clean already (though, you are welcome to check :) ), but there is work to do to extract relevant features from the words of each article (for example, tf-idf scores through scikit-learn's [TfIdfVectorizer]()).\n",
    "\n",
    "Some possible tasks:\n",
    "\n",
    "* Predict the category of an article (easy)\n",
    "* Predict the hierarchy of categories of an article (difficult): you might want to use a custom scoring function here, that will take into account the hierarchy while learning. Intuitively, it is not the same to confuse a cat with a tiger versus a cat with a banana."
   ]
  },
  {
   "cell_type": "code",
   "execution_count": 46,
   "metadata": {},
   "outputs": [
    {
     "name": "stdout",
     "output_type": "stream",
     "text": [
      "Parsing files...\n",
      "Done.\n"
     ]
    }
   ],
   "source": [
    "import sknetwork as skn\n",
    "\n",
    "graph = skn.data.load_netset(\"wikivitals\")"
   ]
  },
  {
   "cell_type": "code",
   "execution_count": 47,
   "metadata": {},
   "outputs": [
    {
     "data": {
      "text/plain": [
       "{'names_col': array(['Alexis', 'Cairo', 'subordinate', ..., 'parody', 'martyrdom',\n",
       "        'Wyler'], dtype='<U26'),\n",
       " 'labels': array([5, 5, 2, ..., 3, 6, 5]),\n",
       " 'meta': {'name': 'Wikivitals (en)',\n",
       "  'description': 'Vital articles of Wikipedia in English (level 4) with links between them and words used in summaries (tokenization by Spacy, model \"en_core_web_lg\").',\n",
       "  'source': 'https://en.wikipedia.org/wiki/Wikipedia:Vital_articles/Level/4',\n",
       "  'date': 'June 2021'},\n",
       " 'biadjacency': <10011x37845 sparse matrix of type '<class 'numpy.int64'>'\n",
       " \twith 1363301 stored elements in Compressed Sparse Row format>,\n",
       " 'adjacency': <10011x10011 sparse matrix of type '<class 'numpy.bool_'>'\n",
       " \twith 824999 stored elements in Compressed Sparse Row format>,\n",
       " 'labels_hierarchy': array([ 930,  930,  534, ...,  637, 1170,  930]),\n",
       " 'names': array(['0', '1', '100 metres', ..., 'Łódź', 'Śāriputra', '−1'],\n",
       "       dtype='<U62'),\n",
       " 'names_labels_hierarchy': array(['Arts|||Architecture|||General',\n",
       "        'Arts|||Architecture|||Specific structures',\n",
       "        'Arts|||Architecture|||Specific structures|||Seven Wonders of the Ancient World',\n",
       "        ..., 'Technology|||Transportation|||Road transport|||Driving',\n",
       "        'Technology|||Transportation|||Road transport|||Road',\n",
       "        'Technology|||Transportation|||Road transport|||Road|||Highway'],\n",
       "       dtype='<U142'),\n",
       " 'names_labels': array(['Arts', 'Biological and health sciences', 'Everyday life',\n",
       "        'Geography', 'History', 'Mathematics', 'People',\n",
       "        'Philosophy and religion', 'Physical sciences',\n",
       "        'Society and social sciences', 'Technology'], dtype='<U30')}"
      ]
     },
     "execution_count": 47,
     "metadata": {},
     "output_type": "execute_result"
    }
   ],
   "source": [
    "graph"
   ]
  },
  {
   "cell_type": "code",
   "execution_count": 48,
   "metadata": {},
   "outputs": [
    {
     "data": {
      "text/plain": [
       "array(['0', '1', '100 metres', ..., 'Łódź', 'Śāriputra', '−1'],\n",
       "      dtype='<U62')"
      ]
     },
     "execution_count": 48,
     "metadata": {},
     "output_type": "execute_result"
    }
   ],
   "source": [
    "# All articles\n",
    "graph.names"
   ]
  },
  {
   "cell_type": "code",
   "execution_count": 49,
   "metadata": {},
   "outputs": [],
   "source": [
    "# All words of article i\n",
    "def get_words(graph, article_id):\n",
    "    i = article_id\n",
    "    indptr = graph.biadjacency.indptr\n",
    "    words_indices = graph.biadjacency.indices[ indptr[i] : indptr[i+1] ]\n",
    "    return [ graph.names_col[w] for w in words_indices ]\n",
    "\n",
    "# Label (i.e. Wikipedia category) of article i \n",
    "def get_label(graph, article_id):\n",
    "    label_id = graph.labels[article_id] \n",
    "    \n",
    "    return label_id, graph.names_labels[label_id]\n",
    "\n",
    "words = get_words(graph, 0)\n",
    "label_id, label = get_label(graph, 0)"
   ]
  },
  {
   "cell_type": "code",
   "execution_count": 50,
   "metadata": {},
   "outputs": [
    {
     "data": {
      "text/plain": [
       "(5,\n",
       " 'Mathematics',\n",
       " ['from',\n",
       "  'historically',\n",
       "  'identity',\n",
       "  'system',\n",
       "  'zero',\n",
       "  'for',\n",
       "  'be',\n",
       "  'slang',\n",
       "  'naught',\n",
       "  'integer',\n",
       "  'or',\n",
       "  'the',\n",
       "  'a',\n",
       "  'many',\n",
       "  'fulfill',\n",
       "  'in',\n",
       "  'numerical',\n",
       "  'to',\n",
       "  'algebraic',\n",
       "  'use',\n",
       "  'least',\n",
       "  'well',\n",
       "  'role',\n",
       "  'context',\n",
       "  'and',\n",
       "  'that',\n",
       "  'where',\n",
       "  'central',\n",
       "  'place',\n",
       "  'adjacent',\n",
       "  'informal',\n",
       "  'digit',\n",
       "  'term',\n",
       "  'US',\n",
       "  'UK',\n",
       "  'also',\n",
       "  'of',\n",
       "  'as',\n",
       "  'o',\n",
       "  'name',\n",
       "  'represent',\n",
       "  'English',\n",
       "  'zip',\n",
       "  'placeholder',\n",
       "  'one',\n",
       "  'letter',\n",
       "  'value',\n",
       "  'mathematic',\n",
       "  'additive',\n",
       "  'structure',\n",
       "  'cipher',\n",
       "  'have',\n",
       "  'include',\n",
       "  'it',\n",
       "  'ought',\n",
       "  'at',\n",
       "  'real',\n",
       "  'number',\n",
       "  'numeral',\n",
       "  'distinguish',\n",
       "  'other'])"
      ]
     },
     "execution_count": 50,
     "metadata": {},
     "output_type": "execute_result"
    }
   ],
   "source": [
    "label_id, label, words"
   ]
  }
 ],
 "metadata": {
  "kernelspec": {
   "display_name": "Python 3.10.6 64-bit",
   "language": "python",
   "name": "python3"
  },
  "language_info": {
   "codemirror_mode": {
    "name": "ipython",
    "version": 3
   },
   "file_extension": ".py",
   "mimetype": "text/x-python",
   "name": "python",
   "nbconvert_exporter": "python",
   "pygments_lexer": "ipython3",
   "version": "3.9.16"
  },
  "vscode": {
   "interpreter": {
    "hash": "b0fa6594d8f4cbf19f97940f81e996739fb7646882a419484c72d19e05852a7e"
   }
  }
 },
 "nbformat": 4,
 "nbformat_minor": 4
}
